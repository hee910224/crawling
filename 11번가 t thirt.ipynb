{
 "cells": [
  {
   "cell_type": "code",
   "execution_count": 3,
   "metadata": {},
   "outputs": [
    {
     "data": {
      "text/plain": [
       "'C:\\\\Users\\\\2\\\\Desktop\\\\python_hyun\\\\인공지능 청년혁신가 양성과정(크롤링과제 _ 이현희)'"
      ]
     },
     "execution_count": 3,
     "metadata": {},
     "output_type": "execute_result"
    }
   ],
   "source": [
    "pwd"
   ]
  },
  {
   "cell_type": "markdown",
   "metadata": {},
   "source": [
    "# 11번가 리뷰 및 상품평 수집"
   ]
  },
  {
   "cell_type": "raw",
   "metadata": {},
   "source": [
    "리뷰 더보기 버튼을 사용하였지만 리뷰가 1만건이 넘는 제품도 있어 크롤링이 너무 오래걸려서 적용하지 않았습니다.\n",
    "수집되는 url중 전시상품이 아닌 링크들도 포함되어 있습니다. 전시되지 않은 상품들은 url은 수집이되지만 가격이나 다른값들을 얻을 수가 없어서 크롤링 결과로 정보들이 수집되지는 않았습니다. \n",
    "크롤링 결과는 전시중인 상품만 크롤링이 되어 저장이 됩니다. \n",
    "그렇기 때문에 인덱스의 숫자값이 연속되지 않을 수 있습니다. \n",
    "검색후 첫페이지에 \"가격비교\"카테고리가 있습니다. 해당 카테고리는 다른 사이트들과 url주소가 달라 수집되지 않습니다. \n",
    "\n",
    "상품별로 '리뷰 더보기'버튼을 눌러 최대한 많은 리뷰를 수집하려고 하였으나, 1만건이 넘는 상품도 있어서 크롤링이 너무 길어지기 때문에 더보기 버튼은 지웠습니다. "
   ]
  },
  {
   "cell_type": "code",
   "execution_count": 4,
   "metadata": {},
   "outputs": [
    {
     "name": "stdout",
     "output_type": "stream",
     "text": [
      "검색할 제품은 무엇입니까?티셔츠\n",
      "https://action.adoffice.11st.co.kr/act/click/v1/landing/clickdata/compress?clickData=XWSkX6nm3bVkt9PCNYQvJSxs0IUph1c5KLKk_yAv83v0SeAMgXAnAb0KruSAJJXOskzsD8yNaK18oGnuQqRf9k-le0ZRP4FtCcVtDxFKx5cICKYjdN9NkHnmu0Xy4a2POQ4loFoSg5z8kLjLrBDodiciRg9dG2K3fXZ4tqUu9k_BrL0u7oJo51mAl_rtciID9-PUXBK6JApKRirVZB1I-R_qWD3cxVNodnVSJHbL4ZTNU5N3DuMumsfeWZvoMEvcr1SgOn82CFxT47qtFE5fNc-tz15wiW92OH9zDa9BXjDRylYVdYGROx9qJ9ef8AKyG9azJEqXQas8TTpFjcrFs3IVQxNbEq95B7Fp07KM-Q1ff-jiMMPbbG7jTq0PSn2pgFCTBYbl0JfEL28VxwaR9JtMBneb4LBFezRJQJToGZwInw0HcP_CjNs98sPAbI_5KVune1qvkem_NuExEmuJPEhlx-4BVDp0oZGA2w7XYH0nVzYHXxCYE7A9YBlseRh-mvQtdRUyyRBNeuAYPezZhwDV56bPkcaliUAZhuYfJIDZwiae2k1QmAf_hipx5BbmcHufiRy9AwNW2WrAClzUvylsh9u9d_KHP8PRjDPF09-OBWemaGjbxhMyzalQOODT_2y2eN-eV0fT_WeZaUh-FqWuOAOl3M5jPd8FfFqBaZ1KETzabOAy5Ghb1-usaP0LMF_RBmiYpwFMdm1NngNJFE3YxDclBR96-TSzAhuDFx-LgQdp4vm6WI2qbk79JIMvgOua_BLle6YlV8N5iVucczUEQBqVJe-4HVLrbIxwMXdDXGowxTt9rGUWXgUFr9I1qMFQDdSP-0vRfcLdp3sN1b9-z3EK8aRAZclOxUVuwOqr7As7szhxoNGMRsabG3If3VD-4VMcZmnXlpM-TKgp5T2A_u9RLpCp4Sj0q0pDw7jo-WTzsvOzOV211bXXChLT&redirect=https%3A%2F%2Fwww.11st.co.kr%2Fproducts%2F56674857%3FtrTypeCd%3DPW24%26trCtgrNo%3D585021\n",
      "https://action.adoffice.11st.co.kr/act/click/v1/landing/clickdata/compress?clickData=bdd1Rm2XaS1tJtqF8t1gSZ6Qjg63cqJXuQ6rEVnLqyYI0BVLFh5HFWHk-0atws_90TBk4H_J2kT43icLZJIQesxHj6A_rZVfXaWF4xz0WGwlpOJ5hJThUGnn-L_qucYKB-iXCLiJwgLMF4s4rOmxjFcpAMz1oWRWRYHKKjN1ssQwnmWk8RVVdYofSxjpgejwLdlE_KVv0JYsOX4LC_w-bqRixfJVCpTZJ2fZXdU2emm72rsujR-2MbNooVUNVVf3vJn1GW6kb26rKrmWKgmmnT3-UrIgV7cI_Pdf-YmwuqkL6ItguAvbhf76Z-tQMWEi9n5o525oQyA4PRCi_VQOYIJ6tLoRByaL4inMy3GU_Gz3GBAQPpPJfJ7OBwFC23RM9yUgUcBjc9tMJw9tcjFB3mqVknOOb6pBK7pl6zfFBEyNp-NY3xIqAcn82N7XzauZTxWr8kzZIG1vPhj-QgYJj-HX7H1HKZzvjs7K5WR5isBNHZDONquW-dWE83JVoECVHNMmTUIN4KTdWb7utxqXUlaPYOz3QMcmL5OA7swjZdL70og9nYf4HskOnOpmqSNmPh16-ySjqKCv4L1rFjLutblBbqH74K2qZIbHNMCbPc3iqZNwlGxUXKz4ASDyXPPkVA9e_DmMvWcvxhdFUgt5OxXMNNR5fgoE7hHCoGSNd1tFVGoOcEOoxfj274ABGU_PX16Kof_7Yddyel3vb9kgsR95Y8IqHymLchar_wfu-XWMAXuXBqh2WrvkWP6QgQyaZmGbQhirzVp4n2QQE74FV7FtTmbFeyTYIv9QI2MjSrcti1ycjlod4cKGD-a1NvWN_P5o-J9E9gn1XGlExaLK8BWeNV_CGSgYLCa37jJ8r6IIZ_gDip9NeuVoDrEzIYDiysX6vQX09RT2LrAt1FsNOXMh9MMARBea4RSoHk67PjdSPrNfolRY997gU3H13oMd&redirect=https%3A%2F%2Fwww.11st.co.kr%2Fproducts%2F2349255949%3FtrTypeCd%3DPW24%26trCtgrNo%3D585021\n",
      "https://action.adoffice.11st.co.kr/act/click/v1/landing/clickdata/compress?clickData=XWSkX6nm3bVkt9PCNYQvJawLpm5nvMweH1cY-Qcd49iV5tTfxWLPX5Aih0f3sVfSP8l7YqeyGn38lydV_FmtV4kbzzdjBxV2LiJzNh-awf4FIUeg634dYxWYd0u-CX2KfPD0OlwXNPvJYCF5LqplNMsPTLsKZKc6mMwD9r94ONUxnhtGXF56HWtXMRIEY9uMDbNdXlDD789OGH-kUVhp9oZ1vYgBWxNVIG0mFYlSWvAK7KqbE1ARPUidcN0EJiopISUe1zJFMEqWEn-VVAbpETV2imOMeNmu9fRTjiI1Qk2vwuFiloM_HWnncC-CO8PXIYZdrh9Hww-fKZ8WRjHOp5mmNBWAE1XBrx3Mb4UYTocTdNEJoaTwMMttTHeU_CamLQpW-yxsNMPwNWyoJWEseX-VoZQoOsZneL0bA6VRr-2ZHj3yVH-8jLaEevOJ09-S2kxKx-9Q2_05jqvddtTtsB-ogfxKu_8RWL5IHfQrLthVtAxEWuK7bnHjzZijDe7eCNmGt1gfEtl8UKz-gqNhYDPB9swKpmtegXdKwOea3PY1ETI07Si77mImH9NMbC9hypNUffvTKwR1noikqWx3iHnZwwNVgyVupBWGNPPVWRbBGrNOF-Rwb7kPRkF7bVAUgOZz8DxyCHdHh2h10JaiJTIu_ij88AB99gIhyPJRNRce7VS5nvIdooE2C7UOn_NfDTHsCL8lmNDMtJNDz6MhbqoyVDpy4TepFMbicdvyV28ZT7g9E5zrBURwrwwpihoQ9NDCzsLXy1Ntn7KBD5I5U2V3E5MxqPCiu3jSGJ4Tmd_IuXp5H30Dtk1a6A4i-HrE4LF9y7SkQ43Cl6mNBskQT_LVfyTJyZ3JeL5uvFuGYnFtnddZLFDmmQSooU1MgYBl3YNSUqtuq_gExw1C6D8j7OdKj-kNhHKHwDA2qAufRzybTl0Y1JaWcTznz3ZvPPCw&redirect=https%3A%2F%2Fwww.11st.co.kr%2Fproducts%2F155944702%3FtrTypeCd%3DPW24%26trCtgrNo%3D585021\n",
      "https://action.adoffice.11st.co.kr/act/click/v1/landing/clickdata/compress?clickData=XWSkX6nm3bVkt9PCNYQvJQyWf7EyUhtIFG0rEEF7ium74euuv68lUfuogL6P41Nu9MsdqIpNG4uWpL3_OCe6sIW460PBs0qHmN1Z_FgAeNHtYYqpF3ibdBxaD2F7xdUeMb4mXGwT9XWaypKJsnb67Z2hIaGZLKL_eQcXOKbzc8WfI3-adT4TRFN5duPjSCuFlZnm45vk6gton-buFPYUksf1C_-b9lb78uVUbXJ49DxEEdH8CKkFAiaWPajWJLrnXSuR5xYWV0-vUMzPhdWnAABQajMvVtoSxbtRVT4ibSIYczLWJlB5qHyD43Af7tyvMOVg3kGemKGZ09jD9SGarCxDPt0fOiovspK8E5_8gthcJfmJIIiQbYzM5_v0fIJ3jWdzeamwVS12TB6ylKxlsNOFEswdmNIuDL8zcCU-aVb-In5vO6h4DI8CA6-LH4aOqBzYp1N10Dowg-fu-SQ3K6k6yW4xK4j2gdGumstQIxIj3S_hLzQX_AsKV--WjaQhWshCV6eBggJmk_0PbLuTWGHJHi8XbJ0bOZwTeWHlY-k-7E-USac2sTQ51V0wy3lz31cVDmOmJjYRqipumYyhi_sJHivBS-dL4Z2TOUHGSvuKmeJG3W1_GnK7CcWYCbpwDvSvZ1pZ_gBGjycVlywSkytsYCNPcpCWJ3jILQubuNy0SX_9alo6FlefAx-OGe440V2pGJOOxGwg8IRmhp-HeMbnaNI88UlpuIEUD6foFl0n8sjhwtEEsegsKUzCSM1w3LPYdia_LykCb-T-FyN5kR9SliqdhxCc5KlRvHPtbNuvZsP9_ukzCNv2BS-baZmJ0UWplkAmmhFLJ1ADJwSF_C4z-PDPfFqllkPvIEWoJfKH72433xqQe2OMGVmx-aPx-RzgHm5vvt_YuWrjg5cc52y2-8qZcGxPGfI8ckKwvVFsCAlm3rXpQgUEXQcwxpuE&redirect=https%3A%2F%2Fwww.11st.co.kr%2Fproducts%2F742454876%3FtrTypeCd%3DPW24%26trCtgrNo%3D585021\n",
      "https://action.adoffice.11st.co.kr/act/click/v1/landing/clickdata/compress?clickData=XWSkX6nm3bVkt9PCNYQvJXbW9l3ql1-KmgluQuEoT3zXeNv7d1RbuKxyhmubzNtM6JGp_r_NVgydT7keXV81DBT2tcdXs5uiM2bOrHZPL_Xj28XqY-26mTIqlVvE882ytu7rm2GXsMvl0iXkVhBB1-SOjiVJahtn1O4_zwjKl3UpuxhAWjm0LrqYePlXvSfctKZJ-bKXQKfBQ9Jg_tQJrdajinM0jeAEn5XbNljKQ08ttJMu6mtQsqkpAow3FKCn1eMtQJ4gqdJphsvDZxh5TG_tyMCfREfM_293eo6ALR5qB9314dQB8-hyARYrwT4X5k8sfb4qUr1OHRPsiOHnw_IjA0384ieg2sz0RtYGIJr5kjpagBTF2tPNKsKEmY1xHrsi8MKD6fHBT3xHLtRVTVx6JCq9JiqP-NIml24wrqDHznubkCGLyyWGkZ2LtJfP6D2T8ZGwgpqxoxS-8GBEqAUFtmC3SisjJJQ6jDXKna3oL5EwJ0J5iqlu46uQ-b7KU4-PRSqvxQHpedKk_8aDOPazG03gCcxAoA-uO28rxcaGwx8Kp1SUiM05YS_3uj8I0hS5GuqpzRWJv54YXq4f2iZm4dq6TofLzI7ymWQOItImlubColSaSfcDzZS2JquepeZaToD-LjKkIVdjAaovmm0woxop9-sC2CIC_yMb88Uuo6mntW00QedOfQ5OEyhzsWyfkzlBc3_VVyrm5LEMtKi6RI3C4Bw5l_5uL8DLK0XbH9BGC2bjDJ7ynGQbt3FymuOh12zfd4a4fQ2bb1Mr7VcoGcsxeE-3ZFV0kiIQ5M8dyoA5pBg90UTpVjXcwyswx4HMtqg3K7O44iPh-iPl0wOyeG9XW7SYbyF1VCxIisdsY5coyiqBl6ElLj7DIffSsqD7AAKkA6ZT5S2laEkiL1l0hNIpnP1kwX3hrudFs04MvbCp3PvsQJqnYNsEt-cU&redirect=https%3A%2F%2Fwww.11st.co.kr%2Fproducts%2F1729735692%3FtrTypeCd%3DPW24%26trCtgrNo%3D585021\n",
      "https://action.adoffice.11st.co.kr/act/click/v1/landing/clickdata/compress?clickData=ObpofrKaU6Fj6A4QyAuQdPq7AOmYijTC_q4WFE4vKR7W7iW-zs59Dktb4iT2eb_ypUkR1mT5JM5YfiacAQXF5hz7Yrwxv70xSgqcunDw2TjYzI5jdY4A2yc860QMJAK5nbAwCUdobqEanA8zXynk77IYtc1Wk2O4hlJoLXg0VkwqJIw6se9TlrzsVX20XJjzheEztK-ODfFEZTeoSSeeXm7kWUb_WAw8QGNnQr7hFphGFfgXQ-HGlALe9Z-KPUbUyVjXIQvh-1p0yuBpYH2dbUilyWDUvmuEzG8KtOmbHAoGh7BWFu1oNwgDyN1Ohu8kIMf2hHrZj9OZAmpDIGKBcCgQ4PKuJnd7A5xkpPM_7KTg1UaktFWfqkPyiu6rAjg2o8QkQ_NHhTW8dotE1hiH_pcTDviKr0yvZUuAWkHSW7LtzNoB-c3NN7ZGoT1HOKxcE2PaZTUCgoMHvoHU2dn8Z5VeTppMoyp43Z8McSdPGPPB4gRl9nX2ESBEZkQ04HoYZdIXxRdG6NO-P5T9QpYr56gQTyWveJJESqNBVm45jc8i3Q1jzOn6RjtV15jk4PVH8UAPTiB2thIPdDR6Mgbo5H-J67TTejNQ-ZCbsXhP9IWxANsiYSHLXMLUEwl_TmLiMnoVCp4S5CLIBpZmxOKJ7aooJEVlLWAsKDovFXg24pgmkn2S9_K_L2nXG8KIA6AIvul2P26rSt_zOAGlhpw6FZU7sF_3DcSTyN3tGSXu32EqR3c7SlZ0W3Weh2vFYyYnjPdEF2KWpvd1BsJg5b7bx6bjuERhMvwznk7BzSQUdajNDSdWUyF069MFlv_rHNXKtYyvxDq8t0532C5Dz8AefmKgJzaSkIv0hmcYVfK5UPJYAH10alBsUFFVaBXdnMmFvo2LyilWNDV0vo4TIAsxX35k3gEKXRUqM7N_p9FrBObLZc_1Rqy7rSB-3MwA7xJx&redirect=https%3A%2F%2Fwww.11st.co.kr%2Fproducts%2F751962376%3FtrTypeCd%3DPW24%26trCtgrNo%3D585021\n",
      "https://action.adoffice.11st.co.kr/act/click/v1/landing/clickdata/compress?clickData=ObpofrKaU6Fj6A4QyAuQdNGI9V7ePecR9PaLl0WT1WU-d241hbMnl2Eq0sa89Sbt2a58K5Vv_aeYRCGsD0HRcrDxA2yp07FSR5sV-5PuIRR3kVLUIpjTXBcRos64hrvpjGK58vubRhSpvJZYl2Qtopfqmh-Bf1pQVAMBeo4eY8sKnxwsQM5mta1CtDIK1was7WHsVAOsSjG6LPLwJDoioT68qc_AVvzA1ZGL7ILa6hjOLu0WdNldvgRd8B5IhKG2YcM4t6fhmW1RfhqxKWUN5FUtHdjZ-sSYKv9KbRnzO4CgSEbqGwFj1zbGdaIUyp9Cj618E5eRZdowI9bFNUcCaihY_uNTovQl0sX92rONQ1LOePE0MnbGHibYvYG-NL-IY5W3HLOW8UaTS2txigs5yHBpJf-kdl03hx1OJYGOz3mSH819DwuyL8TpqLz2u851zfYhlDVoHGH5bwO51fkJmS9rz38I5cDkf58wBrrla5l5BHRc7B5NHDZ_10ZBYvndPOLVR6sIxCkD6vOccYGepfP-Ds1m82gS-aK38HxIA3s-lts4N_E4SETCElMobhN3wRWDNEbJ733DYhoCgZd94d-p2dp0G4qg_b4P9Dl-U0hvXusIQ4Pd1ZtsC4DR7HElnBLc21NcDAvTwAFBB8TltG80TUPA_gBx91l6NEnZFpQbNEyiRrayVfqEoaTQOlGAhT6JCl0xzyncCmQZLwPaUI0ZV77CrXiyFn244_YpsHxr5ZR5DfqdnVouJ2-th4MrUi03Xhwfb7jbFXCF7Zdaz1B0SBDgGUeudjDfXJaLw8vWU827L83LyUw-MIYgZPUTHp83XtAHv72eCosMpHIFUKMpnmSi05eMbV2lJpLLJWhfjND1BspCYUlpdL3TqvGPXjUyzjENPSrsCE709f2Qt7kFBmbNtNT4V05_aTb94aGEleJ9IRUFFzAOJr8uBB98&redirect=https%3A%2F%2Fwww.11st.co.kr%2Fproducts%2F2812509566%3FtrTypeCd%3DPW24%26trCtgrNo%3D585021\n",
      "https://www.11st.co.kr/products/1874704554?trTypeCd=PW61&trCtgrNo=585021\n",
      "https://action.adoffice.11st.co.kr/act/click/v1/landing/clickdata/compress?redirect=https%3A%2F%2Fwww.11st.co.kr%2Fproducts%2F1502454025%3FtrTypeCd%3D19%26trCtgrNo%3D585021\n",
      "https://action.adoffice.11st.co.kr/act/click/v1/landing/clickdata/compress?redirect=https%3A%2F%2Fwww.11st.co.kr%2Fproducts%2F3413752860%3FtrTypeCd%3D19%26trCtgrNo%3D585021\n",
      "https://action.adoffice.11st.co.kr/act/click/v1/landing/clickdata/compress?redirect=https%3A%2F%2Fwww.11st.co.kr%2Fproducts%2F2712516591%3FtrTypeCd%3D19%26trCtgrNo%3D585021\n",
      "https://action.adoffice.11st.co.kr/act/click/v1/landing/clickdata/compress?redirect=https%3A%2F%2Fwww.11st.co.kr%2Fproducts%2F2712485163%3FtrTypeCd%3D19%26trCtgrNo%3D585021\n",
      "https://action.adoffice.11st.co.kr/act/click/v1/landing/clickdata/compress?clickData=MMuKZQVTPenzztXpJLkPTwBoZnrgCxavAzH2OiaTe9vbAX2QhAwTw9LPryTEXzwqwxr1b3k6m4gGBjclG7SRQ1K2Csf0VUQRJsemBW4Utd4BJThes5IqehVdzIokVngwlEnGRLP6NDqg3sbI2V-Q7-9ffE_A0zXCw9JB_Tklzf7YlI7fi5Em-7NVHxGQgnbo4hmhcguoD4yoftbuHK8qBCz3TrbrdvFZDEvvFFpmtDtxbK2IxOGVFTOvMjyYQcxx5bz1uMeoaZaO4ZGuLTYmAfAJK8SLPQhSY5VeheQZirl_y5l-y-Ow8ADxfaZ6pnDXFE09dnJ3_5cQsA98modWi8V2srGPZXDvzyxSSdZbWtJqTBQd028MRhjzarkhV8vy7ObkpQs4FlnwXC1ZpCTAS-lP88gJfShs4CUnUtoW8a5yQXdkIFUdIAwDsRIZpQajIVdS7WymML6_jD5xoyaxhBYlHi1tI9cvhATguI07lOWlxVeWqn3ATqgFCInrQaGPJ5wjTFO3CZ_y-ZIB503vBwglRdHgRWhw-ptnS78Mhfip0LFXaHU4dqY2t4t9-JkrgjxmQtLZIMm94R_KLbt94E_olaUPbFvfaM0aDLYx4IpM5kx_fLqQjR5sZrjtxrc-jK-q5T0wjXwQbJvt8YqbDoFSBu3Mf9-wpXUgZd6kjYHuefWE55qxjo7ZJRt1nqJ5BOiCfxWKC4KhXkJ_kV9uU9NRHU3dnwrwMABZMsf8kprjPD-RQRfDqrhmYmjjjInmNRMd81rHkdP1aWjJ8UVRqUFaJQt8OPgvnkg4Q5Lv3fKMhFZKpj6Fyt6HnSYjrLIz7L1rsEIvaXh_o4iYgp5gJv27DsxPYe88U4B7G54YQdoErGu4JXh7VtbXKOrnYcwNzCe0YHordn7nYCuiMPvJKA9io0_FPm9xbDNVMxDyL7tDqbzAkaeVwEWWwYSoboDM&redirect=https%3A%2F%2Fwww.11st.co.kr%2Fproducts%2F94706844%3FtrTypeCd%3D19%26trCtgrNo%3D585021\n",
      "https://action.adoffice.11st.co.kr/act/click/v1/landing/clickdata/compress?clickData=MMuKZQVTPenzztXpJLkPT9kauyJykev01mVTpewki4fuYJ7C2euwXrHA4JEf7JF19G4rgruuH26FDYWcgAtykEJSjZlHAO-jRsrFb_9XWYfn5bOC-iZ2AcvnsZsLykfhKAkdwvUjreaTEaVAENgo9Shc5oiHApUgDbS8sydJiPLjCD0ONtCOh8JWP8FMohn9Mg-qqSL9SG3hvEh9GcYx8bsss1XOf8CLHoR3CjTyH6pWoORvvcOSTv8O3wjAkKtkbc3NuKKAMkpu6UfQZ68Hmb5kdJ2V70LhneHtbkMhNrxwShQfBhXHpfS_pfSsJUQcMAiFN9PbbGjx_utA-qP9FT2fpZj0B6fdvMgvc7ZG52oWR0DHNRdfiJQRinvYS5VduJUFtgjpA2XRhAjwsTVPkuB9VDpMF-RScpWf8mbO1RhatRTpf8WcXlnF8_fc9x_7yqN-ZYd39IHG-YvsabyjO4RtbDuUV0HYsl9V1gEG9UD6cPPWzXDnTtJwlfYagTyuSyjms3g2oAA60d6Zn6sIwpi7C5Dao4cGiYFiKq9HLzX6KMx_f0ZfQ5eBNlBifhdJwJ09xMORBewv_osMgbLhgbE8pNySsxCH0Ew-v9J_YjlN--kmIW_3HoYWq2EeuSosQkkssmRVRrkmQAfDWsj-HfX6bJyOpf7hzCHMwdbtKFTFFXWBMu_aUN6hjSB2zmwSFWBmHlLDHsObiwk-3eQxgCFQChI3WxilgmpyKV5xkkytWOluXZjZSaaC_bC1p16RpAo_qRxgfUszScc7LdnuzulfXOKaoXP8DqfHH9G6R2Fgdz9uf3aYoQqs8xrZbBu7tY1t8zlQsKMMCG_UG_I8N3aLyZbgbq7Qo-gbb5WKuvzOnY5lmSnbTfwcg9J_ojAyNmIAPlkZg6a8OvM8me2Gu_q5kzygw4hrFGBc5xLpHLEcNTif6xlujIQdS7Y5IjPT&redirect=https%3A%2F%2Fwww.11st.co.kr%2Fproducts%2F1752980373%3FtrTypeCd%3D19%26trCtgrNo%3D585021\n",
      "https://action.adoffice.11st.co.kr/act/click/v1/landing/clickdata/compress?clickData=N4nec_DYb58EKLmVVoChLE7P0VGQezWPx1JYTeUDnnfNYLM-pE6rYT95WJhrKT2ydi4dHakgBEm4nKFd5OXaXjSDWIgQx00FIYUdBmfqt2BvVPGGb9UQl3IxzEQSeH8YkE_eMHzBxqr2gzwNPN2ze3z6tcjuH3OY2HsrDdS_zvC8giec2oRQeO-9_KYe93VwLyJDWs-q_t_CQncmiKouOT8TRhDOXIfB6ml31ge30uTEkwD7vXLi_AkgrFadRKreVrydUQ8yuSE5XveEQwoxxU9ls0qc5AZut8AnCDORWutOyTHbgVlGH2ufIYAzqbE-Rxa4FmVlQGZpqf0BfKJn_6F5AMnbsqPlx6g3p6Zzvvd-fLloIo5-BbK0ATyMbqXqmP0hQJm-Q6HTXf3nesK9sisxVIdr-vyKEmqr70rGCx0fpL9YphC_FIHWpvLz83AebUuh3x_8ENEDEebxoNeIzlMf-O6PiIYS9I8MAUc_vrifsCsXQ9Yr5vL8MMxb_eSaF6z737fgsD-HnfJMvImMk_ZBnGfxiDd8PKI2P7hoNmZCiRnuvQqBCC_q7SFq_47SPlxdAWf3vfSbegY-MXlmfUDiSWE8NaEtIVjGlcfPOQV18iD0L728E7i3EProcVuUyCxu5Gpf_dl01zfVAvU0Eso-89brf3-5MYlstDJnvarPz6OHsLCEPJfvIiiRYR6R9XuFxKfSJTqeBpPotvulMWZyvyhFMnYa9wtOzEPljl1bzVDy0m3kygM6OFOtOWFB5Wbd-LBKt2VGKvJhCs9cwfAdTTRsyCISjmdrFVRcrQOQW_p0oZ4nl3SItyKKQGcFA-kIg-k9cqdPDkBhsiSmfrdtKkL90y71_u3W0mLmQyjKm9b4lXJi7Thgnu8A9bQXEAQJ4fB8x_YdBxEBndUZjJgM2tnEM2CS7Cf7sCr3MNF-II3SIbSVI_X0pVQ3JFBE&redirect=https%3A%2F%2Fwww.11st.co.kr%2Fproducts%2F3296412535%3FtrTypeCd%3D19%26trCtgrNo%3D585021\n",
      "https://action.adoffice.11st.co.kr/act/click/v1/landing/clickdata/compress?clickData=MMuKZQVTPenzztXpJLkPTzvY-CHmomdnGQFORXImFzMtAQNhhkXMAbbZ74DwM2frzzRNmtL5EYPFzLKeg5WKCFXlBxT7H0d3jxpbcgb3aMKpV1v469SQ13mEims3MluazfGI10dQfEs6NnSddxWJBIk_vCfb2hE9s6RgQ9RuyVtf77-qutHkViD6aDI6vQshqirUjJFlYIczhLbJQ_9pRc79auPz--9aysvLkUtR1LzLxhEm0Z8e7ZL28_cDdVrmClBkrDdMB3ZPElvQOqWP63T6kirH_OrPtqK4M7Zk2JcxKCuwkhNN6PHuvxY1IFxxUdGnxjV6qaCs44NIUH7ZbmJ6yGyMa8VMLIM6jR3THGZbkCSnYn3X9ZMdjn7yP8cpB1NtXsHHXnx_nK6geBnMl46HjCRZtyRvGPyZnHuR9loGiA7DLnHAt7yhOaBhCde6bSxQqDaNdFx3jcmOwxryb7cr2Q6QXao2XbCMCcBJWGG3x3QU9x0XRWMSc8tJcY0DVgpuRSB4rH9ZZyyk7bhdd-8lk8q-SCEWq9KS4h5fdxbfJrX2IdVP7jaWqhHSUQPU5b1kz7BMhIfsWP6N8VoTrsEwsQNNQlRR6JY09NjZ03azIxrtjywvWuPQKY5Zh88MvTtnJHW2gTv8pc5MOHyVGzp2fhcV34v_VCyxydjqcklT9KX1SfH1KgjJY6Yq4_KnTVHCPJw09ViS9J5L_JYDkxOs_d5O_riHU_jyOX09wZsTwnkIEkrRxdj-VfqarQr8jfdmhCRZp-nHc6tFOxAwogxbFm3HuLlvolV8Hwrma1PtoClw7rmsDxgi_eUspbQPtHr95DsW6BJIg8y-kWCjhvYVmG_UtCJb33ox-XmQD4LjsV7W3-eSeokH-0TGgRxTZMc5yKTaTtB2Y-T-QQlNTHjLcFkwdkQeqg9v4WsgOfIpcIcxwLjF6L4hhvl40EZN&redirect=https%3A%2F%2Fwww.11st.co.kr%2Fproducts%2F1594844414%3FtrTypeCd%3D19%26trCtgrNo%3D585021\n",
      "https://action.adoffice.11st.co.kr/act/click/v1/landing/clickdata/compress?clickData=95pfOn15nkttKO6daNrd0BymCT3TzZwLYRdCuztioYglcD5Upxv3cSCkDvEsu57FmGF0mToQ5Vxx-RKcKS5NQ49BbwTbl0u8ut_Vu13zGsUVhiMIIQO5wuAZxhTognG404w6ryK3SpWycqaomOUwzoymtBXiJ2olysNa7IL7eEipPVBcngQD3diHm61aAF_1s4nB8gvqpT3n21qd2nFGLfqSJbmyH_5v6kkPSNYfu1lhrewcB10XvYaSA31byC99Sgs8DU8aFkYzE5cVLGoC156LmZqz750DvCXqPKZ0BW0J8G9dMPEzJMwfGU5yvv4JP0w0HtnxHl--mrr4Lc_gnSPhI3ktCRCR445KxFC0yRh6BUqpaUXUDTb6koA5P7amUz6eSecMYTJgLBXhDSg4VCeE5tuHm30auoAcF_ohPgGO2oIHyTVBiCgEpk6rsoR7WRZceAfx9cy-daSe12-9tH6jbnEfSlM_f2nQTdGdoiAoV11ima_OjkrsSN0vV3MafhAUpQKjEHnvFXBKp2ff3L6BCBH9S-b3x8Sx9u71IJa1kaK8MA-V21_nCO8XYhFR-4gzcNSEqyrKz9ex0Ez3lb4YAVDeRcvyLoq5UZq4BHmbUfHCWBlqZSfX1Kv8547NF3_US-Nty8gYsNkFS6rJakgWCdEFhsF0vTZrS04ptrfzDW7VOmHGJEI956Ng2SDH5WlJ-pv76dn-4oCIXA7ivFFLOi4Yh2DNBrxlwyev8u89dYlPb0_yGJJN2oGMuoj5C9KqDo3TyQRYmTcPMy2nWKtUIa6DfaTk_E4JMePF61lKcduHJgPqaMkyPiSwQTR-kIZ5Oouz7txOde6p1WkUzzu8uwbUIqgZ1viLYGYLNYBF23Lt-CWqTBaKP56RqyDR7COm_KYMsWrxJMCwxrQvsYQrL7iH_LluD5kz2R6--PRKH5lb7mqFnrEDR05s4SUT&redirect=https%3A%2F%2Fwww.11st.co.kr%2Fproducts%2F10126786%3FtrTypeCd%3D19%26trCtgrNo%3D585021\n",
      "https://action.adoffice.11st.co.kr/act/click/v1/landing/clickdata/compress?clickData=tC91H6_uoEu8efDARaqZZQ3ZvLl8rnYDRli8jjtqX__1dhnYoV6XgoP1Zr7zICBEXvPfamRvfqgyzh038vQEMLMLhYPAlVWMqp-T3dkuNrXBKdWVcebro1Mz0Z90MThYwRZcueBZPdz9DmViK0sQBb7YfMI6YQRuir7DAJFlVZ9J3IrjgX1FQOSeBK2MIDN6UkC73kzrDYJ2DIDG_nDV75TE-N9mJpaE5zHi2DtVhiYgdPf-IPJHq0iYFQboNn8uNZpW5aq_M6c-tKArblZyjfQkomJjcd0TkGh_ldQKFZ_NORt9TWd9u_7QKxzSTokOVri9aGT7vBaVvTEJnp0m_9goOzd75oeSb0mjZtgdrrMBY7lVXkzIx7QQCuDkaBlB8rkNjHL7JNQsYwz3VqyxLeM8xW2yVXaRn9Is9l9PRsjAHxT1oqZV3jCm8ZtcwZn1whOzgnuu0cA26Id1NxKlTEEQTAJCg5jjyFOL_GJCPQ3p-N7eLJ9qxK4nD2jjJXrTzSuT2-xUU33fCAYbwdFjss47SDXYFgQ2HDnNjyR4S_rFXejf-Vrl3ApOcWTdh-zE4ihhQNU-5BDMYRnvY-5Vv5-plqftZw0qij3b8wP-axvaC8_E-3txJGs9bj9OurDN7UwXY9e6572O9eapn_GOBa2SnePvQt-WIKwj4uZu3NrrbJ5u9oLMJd4NIxiuXFMVtByViHH0UkowD84mFr33JKPvYA6-hXww4hBxiBlot5eJ_tlUzpipxnvse7eeJ7LljPVd4WqEilKcfUdg04njOUz3oikBWxVTTYf5bV9InOXVg1RwX7ZcFax-J1LfkXr4Ek3bVYhkg0tXeF_LlA0t7TQPgAcjD9-EBu8Wcb8jn5VeY0QEFe_cuIzL0B30oe8LwnBpL8_XlzNbssABdTNtAti_qW9kCahfSwbxk8adqnEx7311E2wQtRkPVo6xtGoN&redirect=https%3A%2F%2Fwww.11st.co.kr%2Fproducts%2F85312811%3FtrTypeCd%3D19%26trCtgrNo%3D585021\n",
      "https://www.11st.co.kr/catalog/catalogDetail.tmall?method=catalogDetail&ctlgNo=55864770&trTypeCd=PW51&trCtgrNo=585021\n",
      "https://www.11st.co.kr/catalog/catalogDetail.tmall?method=catalogDetail&ctlgNo=53492094&trTypeCd=PW51&trCtgrNo=585021\n",
      "https://www.11st.co.kr/catalog/catalogDetail.tmall?method=catalogDetail&ctlgNo=22073755&trTypeCd=PW51&trCtgrNo=585021\n",
      "https://www.11st.co.kr/catalog/catalogDetail.tmall?method=catalogDetail&ctlgNo=30759181&trTypeCd=PW51&trCtgrNo=585021\n",
      "https://www.11st.co.kr/products/1774293803?trTypeCd=20&trCtgrNo=585021\n",
      "https://www.11st.co.kr/products/1058322050?trTypeCd=20&trCtgrNo=585021\n",
      "https://www.11st.co.kr/products/378942541?trTypeCd=20&trCtgrNo=585021\n",
      "https://www.11st.co.kr/products/3465278561?trTypeCd=20&trCtgrNo=585021\n",
      "https://www.11st.co.kr/products/56674857?trTypeCd=20&trCtgrNo=585021\n",
      "https://www.11st.co.kr/products/1453335029?trTypeCd=20&trCtgrNo=585021\n",
      "https://www.11st.co.kr/products/1741204175?trTypeCd=20&trCtgrNo=585021\n",
      "https://www.11st.co.kr/products/208678990?trTypeCd=20&trCtgrNo=585021\n",
      "https://www.11st.co.kr/products/3402097051?trTypeCd=20&trCtgrNo=585021\n",
      "https://www.11st.co.kr/products/3465122941?trTypeCd=20&trCtgrNo=585021\n",
      "https://www.11st.co.kr/products/2349255949?trTypeCd=20&trCtgrNo=585021\n",
      "https://www.11st.co.kr/products/89804330?trTypeCd=20&trCtgrNo=585021\n",
      "https://www.11st.co.kr/products/3460307078?trTypeCd=20&trCtgrNo=585021\n",
      "https://www.11st.co.kr/products/2322163116?trTypeCd=20&trCtgrNo=585021\n",
      "https://www.11st.co.kr/products/1259138288?trTypeCd=20&trCtgrNo=585021\n"
     ]
    },
    {
     "name": "stdout",
     "output_type": "stream",
     "text": [
      "https://www.11st.co.kr/products/2435971430?trTypeCd=20&trCtgrNo=585021\n",
      "https://www.11st.co.kr/products/3014710697?trTypeCd=20&trCtgrNo=585021\n",
      "https://www.11st.co.kr/products/2289405670?trTypeCd=20&trCtgrNo=585021\n",
      "https://www.11st.co.kr/products/3291228415?trTypeCd=20&trCtgrNo=585021\n",
      "https://www.11st.co.kr/products/1384014192?trTypeCd=20&trCtgrNo=585021\n",
      "https://www.11st.co.kr/products/142019339?trTypeCd=20&trCtgrNo=585021\n",
      "https://www.11st.co.kr/products/1973951054?trTypeCd=20&trCtgrNo=585021\n",
      "https://www.11st.co.kr/products/1288023429?trTypeCd=20&trCtgrNo=585021\n",
      "https://www.11st.co.kr/products/2990535478?trTypeCd=20&trCtgrNo=585021\n",
      "https://www.11st.co.kr/products/3445685017?trTypeCd=20&trCtgrNo=585021\n",
      "https://www.11st.co.kr/products/1729735692?trTypeCd=20&trCtgrNo=585021\n",
      "https://www.11st.co.kr/products/1700099071?trTypeCd=20&trCtgrNo=585021\n",
      "https://www.11st.co.kr/products/1242620330?trTypeCd=20&trCtgrNo=585021\n",
      "https://www.11st.co.kr/products/1502454025?trTypeCd=20&trCtgrNo=585021\n",
      "https://www.11st.co.kr/products/3296412535?trTypeCd=20&trCtgrNo=585021\n",
      "https://www.11st.co.kr/products/2857271889?trTypeCd=20&trCtgrNo=585021\n",
      "https://www.11st.co.kr/products/2317389321?trTypeCd=20&trCtgrNo=585021\n",
      "https://www.11st.co.kr/products/3221037367?trTypeCd=20&trCtgrNo=585021\n",
      "https://www.11st.co.kr/products/1781197819?trTypeCd=20&trCtgrNo=585021\n",
      "https://www.11st.co.kr/products/1973907208?trTypeCd=20&trCtgrNo=585021\n",
      "https://www.11st.co.kr/products/1130457098?trTypeCd=20&trCtgrNo=585021\n",
      "https://www.11st.co.kr/products/1566122907?trTypeCd=20&trCtgrNo=585021\n",
      "https://www.11st.co.kr/products/3337889182?trTypeCd=20&trCtgrNo=585021\n",
      "https://www.11st.co.kr/products/1800348404?trTypeCd=20&trCtgrNo=585021\n",
      "https://www.11st.co.kr/products/1799721812?trTypeCd=20&trCtgrNo=585021\n",
      "https://www.11st.co.kr/products/1752980373?trTypeCd=20&trCtgrNo=585021\n",
      "https://www.11st.co.kr/products/1586453132?trTypeCd=20&trCtgrNo=585021\n",
      "https://www.11st.co.kr/products/1576356694?trTypeCd=20&trCtgrNo=585021\n",
      "https://www.11st.co.kr/products/2367318155?trTypeCd=20&trCtgrNo=585021\n",
      "https://www.11st.co.kr/products/1380823930?trTypeCd=20&trCtgrNo=585021\n",
      "https://www.11st.co.kr/products/1974005396?trTypeCd=20&trCtgrNo=585021\n",
      "https://www.11st.co.kr/products/2866693817?trTypeCd=20&trCtgrNo=585021\n",
      "https://www.11st.co.kr/products/3294263680?trTypeCd=20&trCtgrNo=585021\n",
      "https://www.11st.co.kr/products/2038464407?trTypeCd=20&trCtgrNo=585021\n",
      "https://www.11st.co.kr/products/1682533887?trTypeCd=20&trCtgrNo=585021\n",
      "https://www.11st.co.kr/products/1210782176?trTypeCd=20&trCtgrNo=585021\n",
      "https://www.11st.co.kr/products/1432117393?trTypeCd=20&trCtgrNo=585021\n",
      "https://www.11st.co.kr/products/2495785012?trTypeCd=20&trCtgrNo=585021\n",
      "https://www.11st.co.kr/products/3421459751?trTypeCd=20&trCtgrNo=585021\n",
      "https://www.11st.co.kr/products/2341823250?trTypeCd=20&trCtgrNo=585021\n",
      "https://www.11st.co.kr/products/2925772494?trTypeCd=20&trCtgrNo=585021\n",
      "https://www.11st.co.kr/products/25282044?trTypeCd=20&trCtgrNo=585021\n",
      "https://www.11st.co.kr/products/2056141753?trTypeCd=20&trCtgrNo=585021\n",
      "https://www.11st.co.kr/products/3340346931?trTypeCd=20&trCtgrNo=585021\n",
      "https://www.11st.co.kr/products/274788576?trTypeCd=20&trCtgrNo=585021\n",
      "https://www.11st.co.kr/products/1995616992?trTypeCd=20&trCtgrNo=585021\n",
      "https://www.11st.co.kr/products/3366419842?trTypeCd=20&trCtgrNo=585021\n",
      "https://www.11st.co.kr/products/2367950330?trTypeCd=20&trCtgrNo=585021\n",
      "https://www.11st.co.kr/products/1051224771?trTypeCd=20&trCtgrNo=585021\n",
      "https://www.11st.co.kr/products/2853110781?trTypeCd=20&trCtgrNo=585021\n",
      "https://www.11st.co.kr/products/49863759?trTypeCd=20&trCtgrNo=585021\n",
      "https://www.11st.co.kr/products/22296715?trTypeCd=20&trCtgrNo=585021\n",
      "https://www.11st.co.kr/products/1763834663?trTypeCd=20&trCtgrNo=585021\n",
      "https://www.11st.co.kr/products/3479209485?trTypeCd=20&trCtgrNo=585021\n",
      "https://www.11st.co.kr/products/2919591457?trTypeCd=20&trCtgrNo=585021\n",
      "https://www.11st.co.kr/products/1833492575?trTypeCd=20&trCtgrNo=585021\n",
      "https://www.11st.co.kr/products/3053375546?trTypeCd=20&trCtgrNo=585021\n",
      "https://www.11st.co.kr/products/2424274373?trTypeCd=20&trCtgrNo=585021\n",
      "https://www.11st.co.kr/products/3456731952?trTypeCd=20&trCtgrNo=585021\n",
      "https://www.11st.co.kr/products/3416856167?trTypeCd=20&trCtgrNo=585021\n",
      "https://www.11st.co.kr/products/1212669287?trTypeCd=20&trCtgrNo=585021\n",
      "https://www.11st.co.kr/products/2920904945?trTypeCd=20&trCtgrNo=585021\n",
      "https://www.11st.co.kr/products/2990029959?trTypeCd=20&trCtgrNo=585021\n",
      "https://www.11st.co.kr/products/3465298012?trTypeCd=20&trCtgrNo=585021\n",
      "https://www.11st.co.kr/products/118195165?trTypeCd=20&trCtgrNo=585021\n",
      "https://action.adoffice.11st.co.kr/act/click/v1/landing/clickdata/compress?clickData=XWSkX6nm3bVkt9PCNYQvJbEYqMFknsmLqHatvMNIsEisJrAQ4hXeZJx7p7iIdkdB_m7kxhC_PaIXP09qpMiJ6JJInQDfVa8hlJxHZlAGe_KrddC43pm21nYKLgNQ0gCC6DimWuCOgJhSdknyNNgDtC2dYnEzda576OEIbIpOjtkfgdHsID7MscDv57dwtIH9H5BarTrtLvR-q0ZJ7Cc685a_Om9A265EqlQHqX0szKC8FhiUadHUF9ThzwJuvwW9WCfm1QuJi1nEOJxkZk8LPeR-lGDIJfdJnU2fNbJKgzQr1RENgYWelb30tHSFsYjZ1JpEUZMTgp4Qh0KyI44ylfSJFkDFew4r1abH7DZukzty38kW_A2F0tRN3a3D6gcChQKaoCfRisYvEQgiGjcNJZkta4ZM7zdmfKdFlNX7ZaSWIITrPzjiJ_NbXwNxnAWXd87LYsEzXHyjun8Aoo1KtlT3wdVQ1Hr7BhJcuwZ2WHbuIBvt4D1jhHBubGezX2Eh8rT9_nl_u0L2Zn5YJLrLpfFjIjykDq6fWmfrDVl7dZNRRsdC5jM1Gi54qFUwNoaWOsye__OjlypZe-92gUnhS-AJ6Q1gGWJD-72Tp1tm7az1R2S4_dEtD1Zx4vutIT6ICYgXgLYpjee4HSzr2xAN6kJqR0QRVIQxh5XI0uPWUu5V5-V8eB9-z6TP48ULs257svdoh8_M2AVSdlOIc_zoaSM83xQMcAMs1fmr5I1TsOeP5WGeZVn0ODMwEr9ib_SKKDZSx0sGigS0h5ndYrVU_UrccgQRVBSGrUZOCTG4bVrOhJwqZtXuPTPt9gcEue2ezadYgp-uWCnWsFH84NaV4l_FOQkva8RTdhsFn3WwCMIdm3f3cp5MZbC_cjx3xI9KdRsY33J7sYx95n8kqV_aXI2DI-rpUWeYZAy74AZhPzE6q8d9HKLjS2Svx85FzjpiZl37fTFrmSC0xWZRMQdVYA&redirect=https%3A%2F%2Fwww.11st.co.kr%2Fproducts%2F56674857%3FtrTypeCd%3DPW24%26trCtgrNo%3D585021\n",
      "https://action.adoffice.11st.co.kr/act/click/v1/landing/clickdata/compress?clickData=XWSkX6nm3bVkt9PCNYQvJQ8StPu0xD_UiURcmtVnHnUdrWk5tay39l-w0CrISTxqTZGgdA8no7Uv9WeMipmMLO4hc2zGb9fllNxIiEYkBQDupdbEbyd34wZLFe6SsqrM6j3kAf_58Ma0IMqj1KgzMzYBlJZ-MCAfYWJf31_OFn-eLVAtnG8HpbA_2Pu0dlO79zzg_Zbd3jQPvesH8JYmQX8ZbNAmBvA8FP8lThWsn9cE9Qd7aQ_nxiajTamI85P2d1MBG4VmgLB_HL3dIzPXUAu75nQQUqJEa4bAiXrSiiJw49YY5zqk_gf3QUsWEdnpTluawdfs8SYJshYnn5KqNKOmPmn61LrIuFIDAWQe3gOzi1DJnUuklqzV2fUsTbdvqvpzq1E8gYQIcP0KhMU0XMl3UVd_i7w9suZveL-1yJ1rCHqNMHQXCuYCJK5PbRmV6nWhdQeBh1exKcuWL9RFrCHI1gKuDcwEK6mB57hTfAfoBIp5tac7_PylMcqSHV72tPn_Gxow4mjtAlEPvjQsBKfKGsSpWX-JTcRpMlPXH1k7MXWHGsPSEul91qBZTqy_VvlREyHrmC1IymFKzv5o1K404_IPWNeOUXwAzz7CfuuzMvU9FmxAbjLSI13phPrSSkSQBcPKFVWtETLxD-MAmayXRqzzQlxgrh2nE8Sq6dsYEx0zJdFmDB1q_Ys6HS2NgfQqgw9YJktnc2fhRgijKZtwP_xKt3C3XE7cVkA20SmiDLru_ITPlwZYXyhv5DbOy_rXv28Tgq0AJW9E0vikdZU-NlE7q8JpPGQxOd09gbz0-bXINgDZlolm42Uhq5F7O-jfrTY9gIaBSpXvJzeUnxf6BfssE9mPWygXAjaDrdGEJ4KG0FXNdeJSWwuapvjzJZLN7ub2mNgiWjl8TGWG8y0UvG0FHEgp4i4etn3CexYbVVQncJrljkmO1rkeeyRK&redirect=https%3A%2F%2Fwww.11st.co.kr%2Fproducts%2F2349255949%3FtrTypeCd%3DPW24%26trCtgrNo%3D585021\n",
      "https://action.adoffice.11st.co.kr/act/click/v1/landing/clickdata/compress?clickData=ObpofrKaU6Fj6A4QyAuQdI7q13YYQc3J5Z_XMJ4S95MDtmhkfvUMxhizVVmlYkwdwV_x2q_nkC8WA2btfKcDbbMl-DDcpqpKF0eoPxdK5jjDviYEKihvFV_9lwURUeKPhzL3qzmr885eTpHgJoE04LvHVVGcpW-IZKBXKf7_jVHgUglQnQg42d7cHfokAq6-ypx-it1wY6tuBrYnHnbTXIvq_JoXfsr27t36R22Sn8faDykXhr5fQB25PSz_qHrX-WA6L4vMS5ftujxVnFGx2CQWboesCS6-MPq7ddrcSm2vewN_9YpBLJDNQ7d4tsQiATd7epprm9cPo14NZw0Wh64H21oMPYlzsYyBgdEdpsmdjHIBn-srletrlaM5e8slCgJEkZw2Koh6w0k7UuIIS4DEzVlK_8tN67La63bP1e0om8Dtp7v9hvYi8gxS9Ny6Me9AgmIRqLaOSqOq86zU3brZCrLUSru_EMu1eTPPJbEkGAv6WK0nZL62B0U42gytE5BATUWvCHK6TF9mZOkxo13hR0Zts2Na0XExxh-A5U_BhSAc_nm038QyxKMwfm_T4EsFOUN_71Qx26IIRJGhRGDdJiOc7HXl6pXt8XvLU_mnqrUuOQUJIv4Z33jpJNLuWlkpIpjozWea351b8eU8QpOn4Y_JwDN123AFQRa_j14CNQ6paxm4VfoplVKrFeTpAxhR0s-Xr34ADzG2HhPhAgYRrG8NJ00ggBxCnv7cTIqXrThiDb72JmSbI9d97vomJ8O9TFabbCHE8oQexP2ZWW8_Wvwd4R8uUuMwMnjWOHXq8twFzYfbYtK-KQleQ-XCszyrJ8z0A0sn9ZgOpwMO4Ufc95GJ3geDEDcudzOYb_fMdFxGK64EEK9aqdl1MlwZzpoi5wlyIkclYbPK5N7s_DUJJX-KHCIlRIx5-bnsnaUrz9elJLVhK2lf8gWpNuV54AHcLwl8caVk-ophjMMoWg&redirect=https%3A%2F%2Fwww.11st.co.kr%2Fproducts%2F155944702%3FtrTypeCd%3DPW24%26trCtgrNo%3D585021\n",
      "쿨이지 빅사이즈 베이직 머슬 반팔 런닝 티셔츠 모음전 S-7XL\n",
      "[JY] 반팔 티셔츠 빅사이즈 커플 남녀공용 남자 여자 남성 여성\n",
      "에어이지 빅사이즈 20수 30수 레이어드 기본 무지 반팔 티셔츠 모음전 S-9XL\n",
      "JPM 남성 남자 여름 반팔 카라티셔츠 남방 폴로 PK셔츠 50종\n",
      "신상품 반팔카라티/빅사이즈/단체커플티/남자옷\n",
      "신상품 반팔 브이넥티/남자옷프린트무지티셔츠\n",
      "프린트스타 17수 라운드 무지 오버핏 반팔 여름 티셔츠 남녀공용 26컬러\n",
      "[50%반값+10%더]편하게입는상하세트~팬츠3900~원마일웨어!/티셔츠/빅사이즈/수면/트레이닝\n",
      "20수 면티 3팩/반팔티/흰티/흰색면티/무지/기본티/반팔/남자/남성\n",
      "[L-5XL] 남자 긴팔티 루즈핏 무지 남성 긴팔티셔츠 쭉티 무지티 형광 롱슬리브 단체티 빅사이즈 티셔츠\n",
      "아디다스 마샬아츠 반팔 라운드티 ADITSG2V2 반팔티 기능성티셔츠 헬스복 커플티\n",
      "아디다스 마샬아츠 반팔 카라티 332_18 반팔티 카라티셔츠 폴로티\n",
      "봄신상 맨투맨티/커플티 무지 빅사이즈 남자옷/단체/후드\n",
      "신상품 반팔 라운드티/남자옷커플기본프린트무지티\n"
     ]
    },
    {
     "name": "stdout",
     "output_type": "stream",
     "text": [
      "[맨즈30%]엘룬 M~5XL 반팔티/티셔츠/쿨론티/빅사이즈/반바지\n",
      "신상 남자 맨투맨/후드티/집업 ~110사이즈 국내생산\n",
      "봄신상 카라티/남자옷/긴팔/반팔/빅사이즈/커플 단체티셔츠\n",
      "에어이지 스탠다드 20수 30수 기본 레이어드 무지 빅사이즈 반팔 티셔츠 모음전 S-9XL\n",
      "공용 코튼 져지 크루넥 3PCS 패키지 243801\n",
      "지프 1941로고 반팔티셔츠 GM6TSU311 (색상선택)\n",
      "엘리시아 30수 반팔 면 티셔츠 (색상선택)\n",
      "코오롱 쿨론 원사 빅사이즈\n",
      "면100% 기본 면티 세트 무지 아동 성인용 반팔티\n",
      "[간쓰리] M~3XL 비침없는20수 반팔티 / 남녀공용 반팔 티셔츠 남자 여자 남성 여성 레터링 빅사이즈 오버핏\n",
      "반팔티 면티 단체티 반티 흰색 기본 무지티셔츠 남자\n",
      "데상트 기능성 스포츠 라운드 반팔 티셔츠\n",
      "쿨이지 빅사이즈 베이직 머슬 반팔 런닝 티셔츠 모음전 S-7XL\n",
      "[30%쿠폰] 엘라모 반팔 티셔츠 빅사이즈 S~4XL 라운드 박시 남자 여자 커플티 순면100\n",
      "[30%]여름신상/남여공용/반팔/반팔티셔츠/반바지/국내제작/그래픽/오버핏/레이어드/20수/면티\n",
      "[스위트바니]봄신상 매일업뎃! 티셔츠/맨투맨/후드/박스티/빅사이즈\n",
      "폴로 랄프로렌 반팔 카라넥 티셔츠\n",
      "[5장 묶음] 무지 오버핏 스판 링클프리 여름 쿨 기능성 반팔 티셔츠\n",
      "[JY] 반팔 티셔츠 빅사이즈 커플 남녀공용 남자 여자 남성 여성\n",
      "[플루크] Best 신상 반팔티/그래픽/반바지/피그먼트/오버핏 2XL\n",
      "다이나핏 레오 면 반팔 티셔츠\n",
      "[30%쿠폰] 디폴트 신상 1+1 패키지 상품 특가! 반팔티/모자/팬츠\n",
      "[30%할인쿠폰]슈프림/M~5XL/반팔티/오버핏/빅사이즈/5부/티셔츠/반바지/레깅스/남자/여자\n",
      "[25%쿠폰] 꼼파뇨 21ss 신상 발매! 반팔티/후드/맨투맨\n",
      "슈프림 빅사이즈S~5XL 남녀 반팔티 5부 오버핏 반팔 남자 여자 남성 반바지 박스\n",
      "코오롱 쿨론 기능성 단체 무지 빅사이즈 반팔 쿨 티셔츠\n",
      "봄 여름 쿨티셔츠 쿨 아이스 냉감 쿨론 긴팔쿨티 스판 기능성 쿨링 빅사이즈\n",
      "반팔티 L~3XL 빅사이즈여성의류 빅사이즈롱티\n",
      "[앨빈클로]21SS 남성 여성 반팔티 오버핏 무지티 프린트 긴팔티 박스티 래쉬가드 헨리넥 남자\n",
      "반팔티셔츠/브이넥/V넥/라운드/면티/무지/기본티/교복티\n",
      "남여 냉감 쿨티셔츠 95~140까지/8XL 빅사이즈/반팔티/긴팔/쿨론/단체티/아이스팬츠\n",
      "드라이 라운드 반팔티 3장세트 쿨티셔츠 기능성 쿨론 무지 헬스복 상의 운동복 단체티\n",
      "정품 폴로 랄프로렌 반팔 티셔츠 남성 여성 폴로티\n",
      "신상품 반팔카라티/빅사이즈/단체커플티/남자옷\n",
      "[25%] 컨셉원 원데이혜택! 쿨슬랙스/린넨셔츠/반팔티셔츠\n",
      "국산 민소매 티셔츠/라운드/쿨론/반팔티/나시티/흰티\n",
      "20수 면티 3팩/반팔티/흰티/흰색면티/무지/기본티/반팔/남자/남성\n",
      "[맨즈30%]엘룬 M~5XL 반팔티/티셔츠/쿨론티/빅사이즈/반바지\n",
      "[25%쿠폰][폴로랄프로렌/타미힐피거] 해외유명브랜드 남여 카라/라운드 반팔티셔츠\n",
      "[25%쿠폰] 어커버 봄신상 발매! 데님자켓/체크셔츠/후드/맨투맨/반팔티/팬츠\n",
      "[쇼인더룸]10+20 여름신상 NEW&BEST 티셔츠/빅사이즈/세트/팬츠/데일리룩\n",
      "[11%+20]달리샵 여름맞이 신상! 매일 입고픈 원피스/티셔츠/팬츠\n",
      "반팔티셔츠/20수/30수/쿨론/기본티/면티/무지/단체\n",
      "3+1 남녀 여름반팔티&반바지 빅사이즈M~5XL 빅사이즈 커플티 5부 트레이닝 롱티 반팔후드\n",
      "[허밍퍼플]여름신상 라운드/롱/티셔츠 원피스 반팔티 맨투맨 롱후드 큰언니 예쁜 여자옷 빅사이즈 여성의류\n",
      "[크로커다일레이디外] 여름 신상 블라우스/티셔츠/니트/팬츠/스커트 ~80%OFF\n",
      "[25%+5%+사은품] 무아무 신상 반팔 1+1 패키지 특가! 테디베어 콜라보 모음!\n",
      "여름신상 반팔티셔츠 44~110 빅사이즈 여성티셔츠 반팔티 여성나시티\n",
      "신상품 반팔 라운드티/남자옷커플기본프린트무지티\n",
      "세~일 남녀공용 반팔 티셔츠 빅사이즈 반팔티 5부 티 오버핏 박스티 롱티 커플 남자여자\n",
      "국내제작 40종 여성 민소매 순면 기본 골지 일자 스판 크롭 롱 끈 나시\n",
      "KM 기능성 여름 쿨티셔츠 긴팔 반팔 쿨론 등산티\n",
      "[에스티아]롱티셔츠/원피스/티셔츠/디즈니/미키/롱티/빅사이즈\n",
      "반팔티/긴팔/3장세트/기본티/무지티/면/흰티/교복티\n",
      "블론디 오버핏 반팔티셔츠 여름신상 프린팅 빅사이즈/반팔/박시/나염/레이어드/트임/롱티/베이직\n",
      "[맨즈30%]반팔티/M~5XL/티셔츠/V넥/빅사이즈/프린트티/남자/여자\n",
      "[시스터]11+20% 봄신상 국내생산 롱티/세트/홈웨어/빅사이즈/원마일웨어/루즈핏/롱원피스\n",
      "올젠외 남성브랜드 여름 니트/티셔츠/점퍼/팬츠\n",
      "슬림면스판나시/민소매/나시티/골지/망고/런닝/면나시\n",
      "BYC/TRY 온가족 브랜드 런닝팬티/드로즈/여성팬티!나시/아동팬티/민소매\n",
      "제이컴퍼니 기능성 냉감스판 반목 쿨티셔츠(7컬러)\n",
      "[L~5XL] 빅사이즈 오버핏 남자 7부티셔츠 반팔티 박스티 무지티 7부티 기본티 면티 단체티 남성 티셔츠\n",
      "[25%] 셀럽착용! 오앤에이 신상 반팔티/긴팔티/팬츠/맨투맨/후드\n",
      "여성 니트 반팔티 브이넥 스판 오피스룩 7부소매 js75\n",
      "홈런 반팔티/7부티/라운드/오버핏/브이넥/티셔츠/루즈/박스/빅사이즈/여름/남자/남성/커플티/데일리룩/쿨티\n",
      "여름신상 빅사이즈 반팔 티셔츠/팬츠/세트/레깅스/린넨/점프수트\n",
      "고랄 여름 긴팔 쿨 기능성티 스판티 냉감티 쿨티셔츠\n",
      "홈런 반팔카라티/티셔츠/반팔티/여름/빅사이즈/남성/남자/폴로/헨리넥/골프웨어/PK/단체/쿨론티/남녀공용\n",
      "[푸마]신상,남성 프리미엄 스판 카라티 반팔티셔츠 902T\n",
      "봄 여름 가을 긴팔쿨티 쿨론 쿨링 이너웨어 아이스티셔츠 반목티 긴팔 냉감티셔츠\n",
      "짱짱한 남자 면 스판 라운드 반팔 티셔츠\n",
      "코마사 20수,30수 무지 반팔 면티,쿨론티/라운드/브이넥/빅사이즈/흰색면티/반티/흰티/남자/기본티/단체티\n",
      "라코스테 신상입고 폴로셔츠 카라티 반팔티 운동화 스니커즈 가방 외\n",
      "티코리아나(대구공장) 아동3세부터~성인3XL/라운드티/브이넥/쿨론/나그랑/나염인쇄가능/면티 단체티 교회티\n",
      "긴팔티셔츠/라운드/무지/쭉티/순면\n",
      "[30%] 여름신상/남여공용/반팔/반팔티셔츠/반바지/국내제작/그래픽/오버핏/레이어드/20수/면티\n",
      "[11%+20%] 전상품 6920원! 힙시크/여름신상/루즈핏박스티/원피스/반팔티\n",
      "[25%쿠폰무배] 어스앤뎀 외 남녀공용 봄시즌오프+여름신상 놓치면 품절! 반팔/맨투맨/후드/셔츠/팬츠\n",
      "[25%] 샐리/티뷰 본사단독 SS 역대급 혜택! 최대90% OFF 여름신상 NEW UP 린넨자켓/원피스/外\n",
      "기본 면티 17수 3장세트 무지티 반팔티 빅사이즈 티셔츠 MCBST20\n",
      "남자반팔티 남자7부티셔츠 오버핏반팔 여름티셔츠 박스티 루즈티 빅사이즈w001\n",
      "다이나핏 기능성 백로고 반팔 티셔츠\n",
      "[인터크루] 시원하고 깔끔 댄디한 세로 레터링 오버핏 반팔 티셔츠 ITV2TM04A\n",
      "데일리앤 여름신상 루즈핏 레터링 빅사이즈 롱 반팔티셔츠\n",
      "기본 무지티 긴팔 티셔츠 순면 100% 레이어드 이너 면티 흰티 흰색 검정 쭉티 시보리 봄 얇은 긴팔티\n",
      "[25%쿠폰] 지센 여름 추가 업데이트 이너특가 블라우스/원피스/티셔츠/팬츠~92%\n",
      "디스커버리 마운틴 라운드 면 반팔 티셔츠\n",
      "[포스트릿]~4XL 피그먼트 남자 반팔티 남성 티셔츠 면티 의류\n",
      "쿨이지 빅사이즈 베이직 머슬 반팔 런닝 티셔츠 모음전 S-7XL\n",
      "[JY] 반팔 티셔츠 빅사이즈 커플 남녀공용 남자 여자 남성 여성\n",
      "에어이지 빅사이즈 20수 30수 레이어드 기본 무지 반팔 티셔츠 모음전 S-9XL\n"
     ]
    },
    {
     "data": {
      "application/vnd.jupyter.widget-view+json": {
       "model_id": "16becd34e6bf4277af2f799646bd463b",
       "version_major": 2,
       "version_minor": 0
      },
      "text/plain": [
       "HBox(children=(HTML(value=''), FloatProgress(value=0.0, max=30.0), HTML(value='')))"
      ]
     },
     "metadata": {},
     "output_type": "display_data"
    },
    {
     "name": "stdout",
     "output_type": "stream",
     "text": [
      "['쿨이지 빅사이즈 베이직 머슬 반팔 런닝 티셔츠 모음전 S-7XL']\n",
      "['6,500']\n",
      "긍정리뷰 88.3%\n"
     ]
    },
    {
     "data": {
      "application/vnd.jupyter.widget-view+json": {
       "model_id": "af48b0c47d3c42e8ac7f9b2741cfb6b2",
       "version_major": 2,
       "version_minor": 0
      },
      "text/plain": [
       "HBox(children=(HTML(value=''), FloatProgress(value=0.0, max=20.0), HTML(value='')))"
      ]
     },
     "metadata": {},
     "output_type": "display_data"
    },
    {
     "name": "stdout",
     "output_type": "stream",
     "text": [
      "\n",
      "쿨이지 빅사이즈 베이직 머슬 반팔 런닝 티셔츠 모음전 S-7XL ( 댓글 수: 20 )\n",
      "['[JY] 반팔 티셔츠 빅사이즈 커플 남녀공용 남자 여자 남성 여성']\n",
      "['9,900']\n",
      "긍정리뷰 97.6%\n"
     ]
    },
    {
     "data": {
      "application/vnd.jupyter.widget-view+json": {
       "model_id": "aa1c28854c704e58a6c966033acd11a8",
       "version_major": 2,
       "version_minor": 0
      },
      "text/plain": [
       "HBox(children=(HTML(value=''), FloatProgress(value=0.0, max=20.0), HTML(value='')))"
      ]
     },
     "metadata": {},
     "output_type": "display_data"
    },
    {
     "name": "stdout",
     "output_type": "stream",
     "text": [
      "\n",
      "[JY] 반팔 티셔츠 빅사이즈 커플 남녀공용 남자 여자 남성 여성 ( 댓글 수: 20 )\n",
      "['에어이지 빅사이즈 20수 30수 레이어드 기본 무지 반팔 티셔츠 모음전 S-9XL']\n",
      "['5,900']\n",
      "긍정리뷰 88.3%\n"
     ]
    },
    {
     "data": {
      "application/vnd.jupyter.widget-view+json": {
       "model_id": "090479395b0a43edb476f01759c85d57",
       "version_major": 2,
       "version_minor": 0
      },
      "text/plain": [
       "HBox(children=(HTML(value=''), FloatProgress(value=0.0, max=20.0), HTML(value='')))"
      ]
     },
     "metadata": {},
     "output_type": "display_data"
    },
    {
     "name": "stdout",
     "output_type": "stream",
     "text": [
      "\n",
      "에어이지 빅사이즈 20수 30수 레이어드 기본 무지 반팔 티셔츠 모음전 S-9XL ( 댓글 수: 20 )\n",
      "['JPM 남성 남자 여름 반팔 카라티셔츠 남방 폴로 PK셔츠 50종']\n",
      "['19,800']\n",
      "긍정리뷰 90%\n"
     ]
    },
    {
     "data": {
      "application/vnd.jupyter.widget-view+json": {
       "model_id": "ae62aaa2b1854637aaa3a1b56de365a6",
       "version_major": 2,
       "version_minor": 0
      },
      "text/plain": [
       "HBox(children=(HTML(value=''), FloatProgress(value=0.0, max=20.0), HTML(value='')))"
      ]
     },
     "metadata": {},
     "output_type": "display_data"
    },
    {
     "name": "stdout",
     "output_type": "stream",
     "text": [
      "\n",
      "JPM 남성 남자 여름 반팔 카라티셔츠 남방 폴로 PK셔츠 50종 ( 댓글 수: 20 )\n",
      "['신상품 반팔카라티/빅사이즈/단체커플티/남자옷']\n",
      "['13,800']\n",
      "긍정리뷰 96.6%\n"
     ]
    },
    {
     "data": {
      "application/vnd.jupyter.widget-view+json": {
       "model_id": "4b0854a0cf934bcd8992fc5bf6b4912c",
       "version_major": 2,
       "version_minor": 0
      },
      "text/plain": [
       "HBox(children=(HTML(value=''), FloatProgress(value=0.0, max=20.0), HTML(value='')))"
      ]
     },
     "metadata": {},
     "output_type": "display_data"
    },
    {
     "name": "stdout",
     "output_type": "stream",
     "text": [
      "\n",
      "신상품 반팔카라티/빅사이즈/단체커플티/남자옷 ( 댓글 수: 20 )\n",
      "['신상품 반팔 브이넥티/남자옷프린트무지티셔츠']\n",
      "['13,800']\n",
      "긍정리뷰 96.6%\n"
     ]
    },
    {
     "data": {
      "application/vnd.jupyter.widget-view+json": {
       "model_id": "6084f84c0e0c46c5983658bb603fa135",
       "version_major": 2,
       "version_minor": 0
      },
      "text/plain": [
       "HBox(children=(HTML(value=''), FloatProgress(value=0.0, max=20.0), HTML(value='')))"
      ]
     },
     "metadata": {},
     "output_type": "display_data"
    },
    {
     "name": "stdout",
     "output_type": "stream",
     "text": [
      "\n",
      "신상품 반팔 브이넥티/남자옷프린트무지티셔츠 ( 댓글 수: 20 )\n",
      "['프린트스타 17수 라운드 무지 오버핏 반팔 여름 티셔츠 남녀공용 26컬러']\n",
      "['5,900']\n",
      "긍정리뷰 94.4%\n"
     ]
    },
    {
     "data": {
      "application/vnd.jupyter.widget-view+json": {
       "model_id": "54299de8a2574841aeb938ffbff79352",
       "version_major": 2,
       "version_minor": 0
      },
      "text/plain": [
       "HBox(children=(HTML(value=''), FloatProgress(value=0.0, max=20.0), HTML(value='')))"
      ]
     },
     "metadata": {},
     "output_type": "display_data"
    },
    {
     "name": "stdout",
     "output_type": "stream",
     "text": [
      "\n",
      "프린트스타 17수 라운드 무지 오버핏 반팔 여름 티셔츠 남녀공용 26컬러 ( 댓글 수: 20 )\n",
      "['[50%반값+10%더]편하게입는상하세트~팬츠3900~원마일웨어!/티셔츠/빅사이즈/수면/트레이닝']\n",
      "['7,900']\n",
      "긍정리뷰 81.4%\n"
     ]
    },
    {
     "data": {
      "application/vnd.jupyter.widget-view+json": {
       "model_id": "3ea249b192aa4ef6a049c00343625246",
       "version_major": 2,
       "version_minor": 0
      },
      "text/plain": [
       "HBox(children=(HTML(value=''), FloatProgress(value=0.0, max=20.0), HTML(value='')))"
      ]
     },
     "metadata": {},
     "output_type": "display_data"
    },
    {
     "name": "stdout",
     "output_type": "stream",
     "text": [
      "\n",
      "[50%반값+10%더]편하게입는상하세트~팬츠3900~원마일웨어!/티셔츠/빅사이즈/수면/트레이닝 ( 댓글 수: 20 )\n",
      "['20수 면티 3팩/반팔티/흰티/흰색면티/무지/기본티/반팔/남자/남성']\n",
      "['18,900']\n",
      "긍정리뷰 100%\n"
     ]
    },
    {
     "data": {
      "application/vnd.jupyter.widget-view+json": {
       "model_id": "6d4c9f0188184542b4c3f94b068cd1c0",
       "version_major": 2,
       "version_minor": 0
      },
      "text/plain": [
       "HBox(children=(HTML(value=''), FloatProgress(value=0.0, max=20.0), HTML(value='')))"
      ]
     },
     "metadata": {},
     "output_type": "display_data"
    },
    {
     "name": "stdout",
     "output_type": "stream",
     "text": [
      "\n",
      "20수 면티 3팩/반팔티/흰티/흰색면티/무지/기본티/반팔/남자/남성 ( 댓글 수: 20 )\n",
      "['[L-5XL] 남자 긴팔티 루즈핏 무지 남성 긴팔티셔츠 쭉티 무지티 형광 롱슬리브 단체티 빅사이즈 티셔츠']\n",
      "['16,800']\n",
      "긍정리뷰 92.2%\n"
     ]
    },
    {
     "data": {
      "application/vnd.jupyter.widget-view+json": {
       "model_id": "fd6991d622444697b2012d3893b97506",
       "version_major": 2,
       "version_minor": 0
      },
      "text/plain": [
       "HBox(children=(HTML(value=''), FloatProgress(value=0.0, max=4.0), HTML(value='')))"
      ]
     },
     "metadata": {},
     "output_type": "display_data"
    },
    {
     "name": "stdout",
     "output_type": "stream",
     "text": [
      "\n",
      "[L-5XL] 남자 긴팔티 루즈핏 무지 남성 긴팔티셔츠 쭉티 무지티 형광 롱슬리브 단체티 빅사이즈 티셔츠 ( 댓글 수: 4 )\n",
      "['아디다스 마샬아츠 반팔 라운드티 ADITSG2V2 반팔티 기능성티셔츠 헬스복 커플티']\n",
      "['25,000']\n",
      "긍정리뷰 97.9%\n"
     ]
    },
    {
     "data": {
      "application/vnd.jupyter.widget-view+json": {
       "model_id": "48ccc3b6bd5c48c6b88c7a7aecc3f8d8",
       "version_major": 2,
       "version_minor": 0
      },
      "text/plain": [
       "HBox(children=(HTML(value=''), FloatProgress(value=0.0, max=2.0), HTML(value='')))"
      ]
     },
     "metadata": {},
     "output_type": "display_data"
    },
    {
     "name": "stdout",
     "output_type": "stream",
     "text": [
      "\n",
      "아디다스 마샬아츠 반팔 라운드티 ADITSG2V2 반팔티 기능성티셔츠 헬스복 커플티 ( 댓글 수: 2 )\n",
      "['아디다스 마샬아츠 반팔 카라티 332_18 반팔티 카라티셔츠 폴로티']\n",
      "['38,000']\n",
      "긍정리뷰 97.9%\n"
     ]
    },
    {
     "data": {
      "application/vnd.jupyter.widget-view+json": {
       "model_id": "3f4b2d347ce245a0b475b8e0601f88a4",
       "version_major": 2,
       "version_minor": 0
      },
      "text/plain": [
       "HBox(children=(HTML(value=''), FloatProgress(value=0.0, max=11.0), HTML(value='')))"
      ]
     },
     "metadata": {},
     "output_type": "display_data"
    },
    {
     "name": "stdout",
     "output_type": "stream",
     "text": [
      "\n",
      "아디다스 마샬아츠 반팔 카라티 332_18 반팔티 카라티셔츠 폴로티 ( 댓글 수: 11 )\n",
      "['봄신상 맨투맨티/커플티 무지 빅사이즈 남자옷/단체/후드']\n",
      "['13,900']\n",
      "긍정리뷰 96.6%\n"
     ]
    },
    {
     "data": {
      "application/vnd.jupyter.widget-view+json": {
       "model_id": "396ea362f88e4797b0481b123df7370f",
       "version_major": 2,
       "version_minor": 0
      },
      "text/plain": [
       "HBox(children=(HTML(value=''), FloatProgress(value=0.0, max=20.0), HTML(value='')))"
      ]
     },
     "metadata": {},
     "output_type": "display_data"
    },
    {
     "name": "stdout",
     "output_type": "stream",
     "text": [
      "\n",
      "봄신상 맨투맨티/커플티 무지 빅사이즈 남자옷/단체/후드 ( 댓글 수: 20 )\n",
      "['신상품 반팔 라운드티/남자옷커플기본프린트무지티']\n",
      "['13,800']\n",
      "긍정리뷰 96.6%\n"
     ]
    },
    {
     "data": {
      "application/vnd.jupyter.widget-view+json": {
       "model_id": "b291fdab1de846a39bf71d05e1ac8541",
       "version_major": 2,
       "version_minor": 0
      },
      "text/plain": [
       "HBox(children=(HTML(value=''), FloatProgress(value=0.0, max=20.0), HTML(value='')))"
      ]
     },
     "metadata": {},
     "output_type": "display_data"
    },
    {
     "name": "stdout",
     "output_type": "stream",
     "text": [
      "\n",
      "신상품 반팔 라운드티/남자옷커플기본프린트무지티 ( 댓글 수: 20 )\n",
      "['[맨즈30%]엘룬 M~5XL 반팔티/티셔츠/쿨론티/빅사이즈/반바지']\n",
      "['9,900']\n",
      "긍정리뷰 100%\n"
     ]
    },
    {
     "data": {
      "application/vnd.jupyter.widget-view+json": {
       "model_id": "b6632b18d5a14ad98f6bb0602c9767cb",
       "version_major": 2,
       "version_minor": 0
      },
      "text/plain": [
       "HBox(children=(HTML(value=''), FloatProgress(value=0.0, max=20.0), HTML(value='')))"
      ]
     },
     "metadata": {},
     "output_type": "display_data"
    },
    {
     "name": "stdout",
     "output_type": "stream",
     "text": [
      "\n",
      "[맨즈30%]엘룬 M~5XL 반팔티/티셔츠/쿨론티/빅사이즈/반바지 ( 댓글 수: 20 )\n",
      "['신상 남자 맨투맨/후드티/집업 ~110사이즈 국내생산']\n",
      "['23,900']\n",
      "긍정리뷰 83.3%\n"
     ]
    },
    {
     "data": {
      "application/vnd.jupyter.widget-view+json": {
       "model_id": "46ea277b34a24820840cefd95bbd5239",
       "version_major": 2,
       "version_minor": 0
      },
      "text/plain": [
       "HBox(children=(HTML(value=''), FloatProgress(value=0.0, max=20.0), HTML(value='')))"
      ]
     },
     "metadata": {},
     "output_type": "display_data"
    },
    {
     "name": "stdout",
     "output_type": "stream",
     "text": [
      "\n",
      "신상 남자 맨투맨/후드티/집업 ~110사이즈 국내생산 ( 댓글 수: 20 )\n",
      "['봄신상 카라티/남자옷/긴팔/반팔/빅사이즈/커플 단체티셔츠']\n",
      "['13,800']\n",
      "긍정리뷰 96.6%\n"
     ]
    },
    {
     "data": {
      "application/vnd.jupyter.widget-view+json": {
       "model_id": "e3809d20741b4fa7896cb2d77032b9fb",
       "version_major": 2,
       "version_minor": 0
      },
      "text/plain": [
       "HBox(children=(HTML(value=''), FloatProgress(value=0.0, max=20.0), HTML(value='')))"
      ]
     },
     "metadata": {},
     "output_type": "display_data"
    },
    {
     "name": "stdout",
     "output_type": "stream",
     "text": [
      "\n",
      "봄신상 카라티/남자옷/긴팔/반팔/빅사이즈/커플 단체티셔츠 ( 댓글 수: 20 )\n",
      "['에어이지 스탠다드 20수 30수 기본 레이어드 무지 빅사이즈 반팔 티셔츠 모음전 S-9XL']\n",
      "['5,900']\n",
      "긍정리뷰 88.3%\n"
     ]
    },
    {
     "data": {
      "application/vnd.jupyter.widget-view+json": {
       "model_id": "bfc710e1196d4c27a60024197ebe41d4",
       "version_major": 2,
       "version_minor": 0
      },
      "text/plain": [
       "HBox(children=(HTML(value=''), FloatProgress(value=0.0, max=20.0), HTML(value='')))"
      ]
     },
     "metadata": {},
     "output_type": "display_data"
    },
    {
     "name": "stdout",
     "output_type": "stream",
     "text": [
      "\n",
      "에어이지 스탠다드 20수 30수 기본 레이어드 무지 빅사이즈 반팔 티셔츠 모음전 S-9XL ( 댓글 수: 20 )\n",
      "['공용 코튼 져지 크루넥 3PCS 패키지 243801']\n",
      "['15,320']\n",
      "['지프 1941로고 반팔티셔츠 GM6TSU311 (색상선택)']\n",
      "['35,630']\n",
      "['엘리시아 30수 반팔 면 티셔츠 (색상선택)']\n",
      "['13,400']\n",
      "['코오롱 쿨론 원사 빅사이즈']\n",
      "['9,900']\n",
      "['면100% 기본 면티 세트 무지 아동 성인용 반팔티']\n",
      "['9,500']\n",
      "긍정리뷰 95.6%\n"
     ]
    },
    {
     "data": {
      "application/vnd.jupyter.widget-view+json": {
       "model_id": "80c6e86856bc4872b9cc4719e7aff1ff",
       "version_major": 2,
       "version_minor": 0
      },
      "text/plain": [
       "HBox(children=(HTML(value=''), FloatProgress(value=0.0, max=20.0), HTML(value='')))"
      ]
     },
     "metadata": {},
     "output_type": "display_data"
    },
    {
     "name": "stdout",
     "output_type": "stream",
     "text": [
      "\n",
      "면100% 기본 면티 세트 무지 아동 성인용 반팔티 ( 댓글 수: 20 )\n",
      "['[간쓰리] M~3XL 비침없는20수 반팔티 / 남녀공용 반팔 티셔츠 남자 여자 남성 여성 레터링 빅사이즈 오버핏']\n",
      "['9,800']\n",
      "긍정리뷰 97.2%\n"
     ]
    },
    {
     "data": {
      "application/vnd.jupyter.widget-view+json": {
       "model_id": "2cb4caeb6bba486ca80dd281b707838a",
       "version_major": 2,
       "version_minor": 0
      },
      "text/plain": [
       "HBox(children=(HTML(value=''), FloatProgress(value=0.0, max=20.0), HTML(value='')))"
      ]
     },
     "metadata": {},
     "output_type": "display_data"
    },
    {
     "name": "stdout",
     "output_type": "stream",
     "text": [
      "\n",
      "[간쓰리] M~3XL 비침없는20수 반팔티 / 남녀공용 반팔 티셔츠 남자 여자 남성 여성 레터링 빅사이즈 오버핏 ( 댓글 수: 20 )\n",
      "['반팔티 면티 단체티 반티 흰색 기본 무지티셔츠 남자']\n",
      "['2,600']\n",
      "긍정리뷰 90.6%\n"
     ]
    },
    {
     "data": {
      "application/vnd.jupyter.widget-view+json": {
       "model_id": "ae2bcaaedc65450f94e676fbe1925ac7",
       "version_major": 2,
       "version_minor": 0
      },
      "text/plain": [
       "HBox(children=(HTML(value=''), FloatProgress(value=0.0, max=20.0), HTML(value='')))"
      ]
     },
     "metadata": {},
     "output_type": "display_data"
    },
    {
     "name": "stdout",
     "output_type": "stream",
     "text": [
      "\n",
      "반팔티 면티 단체티 반티 흰색 기본 무지티셔츠 남자 ( 댓글 수: 20 )\n",
      "['데상트 기능성 스포츠 라운드 반팔 티셔츠']\n",
      "['28,600']\n",
      "긍정리뷰 -\n"
     ]
    },
    {
     "data": {
      "application/vnd.jupyter.widget-view+json": {
       "model_id": "821af7d1c3324911bca487942223205c",
       "version_major": 2,
       "version_minor": 0
      },
      "text/plain": [
       "HBox(children=(HTML(value=''), FloatProgress(value=0.0, max=4.0), HTML(value='')))"
      ]
     },
     "metadata": {},
     "output_type": "display_data"
    },
    {
     "name": "stdout",
     "output_type": "stream",
     "text": [
      "\n",
      "데상트 기능성 스포츠 라운드 반팔 티셔츠 ( 댓글 수: 4 )\n",
      "['쿨이지 빅사이즈 베이직 머슬 반팔 런닝 티셔츠 모음전 S-7XL']\n",
      "['6,500']\n",
      "긍정리뷰 88.3%\n"
     ]
    },
    {
     "data": {
      "application/vnd.jupyter.widget-view+json": {
       "model_id": "5df1e949fd52462db27be52c698f7993",
       "version_major": 2,
       "version_minor": 0
      },
      "text/plain": [
       "HBox(children=(HTML(value=''), FloatProgress(value=0.0, max=20.0), HTML(value='')))"
      ]
     },
     "metadata": {},
     "output_type": "display_data"
    },
    {
     "name": "stdout",
     "output_type": "stream",
     "text": [
      "\n",
      "쿨이지 빅사이즈 베이직 머슬 반팔 런닝 티셔츠 모음전 S-7XL ( 댓글 수: 20 )\n",
      "['[30%쿠폰] 엘라모 반팔 티셔츠 빅사이즈 S~4XL 라운드 박시 남자 여자 커플티 순면100']\n",
      "['9,800']\n",
      "긍정리뷰 95.7%\n"
     ]
    },
    {
     "data": {
      "application/vnd.jupyter.widget-view+json": {
       "model_id": "52d46bbd9f0644d8b41f287581d14287",
       "version_major": 2,
       "version_minor": 0
      },
      "text/plain": [
       "HBox(children=(HTML(value=''), FloatProgress(value=0.0, max=20.0), HTML(value='')))"
      ]
     },
     "metadata": {},
     "output_type": "display_data"
    },
    {
     "name": "stdout",
     "output_type": "stream",
     "text": [
      "\n",
      "[30%쿠폰] 엘라모 반팔 티셔츠 빅사이즈 S~4XL 라운드 박시 남자 여자 커플티 순면100 ( 댓글 수: 20 )\n",
      "['[30%]여름신상/남여공용/반팔/반팔티셔츠/반바지/국내제작/그래픽/오버핏/레이어드/20수/면티']\n",
      "['9,900']\n",
      "긍정리뷰 96.6%\n"
     ]
    },
    {
     "data": {
      "application/vnd.jupyter.widget-view+json": {
       "model_id": "174a45f8f05d48579d11904875c7d59c",
       "version_major": 2,
       "version_minor": 0
      },
      "text/plain": [
       "HBox(children=(HTML(value=''), FloatProgress(value=0.0, max=20.0), HTML(value='')))"
      ]
     },
     "metadata": {},
     "output_type": "display_data"
    },
    {
     "name": "stdout",
     "output_type": "stream",
     "text": [
      "\n",
      "[30%]여름신상/남여공용/반팔/반팔티셔츠/반바지/국내제작/그래픽/오버핏/레이어드/20수/면티 ( 댓글 수: 20 )\n",
      "['[스위트바니]봄신상 매일업뎃! 티셔츠/맨투맨/후드/박스티/빅사이즈']\n",
      "['7,900']\n",
      "긍정리뷰 80.4%\n"
     ]
    },
    {
     "data": {
      "application/vnd.jupyter.widget-view+json": {
       "model_id": "70e798b45e084df6a963da4bc956d422",
       "version_major": 2,
       "version_minor": 0
      },
      "text/plain": [
       "HBox(children=(HTML(value=''), FloatProgress(value=0.0, max=20.0), HTML(value='')))"
      ]
     },
     "metadata": {},
     "output_type": "display_data"
    },
    {
     "name": "stdout",
     "output_type": "stream",
     "text": [
      "\n",
      "[스위트바니]봄신상 매일업뎃! 티셔츠/맨투맨/후드/박스티/빅사이즈 ( 댓글 수: 20 )\n",
      "\n",
      "26\n"
     ]
    }
   ],
   "source": [
    "# 라이브러리 import\n",
    "import pandas as pd\n",
    "import numpy as np\n",
    "\n",
    "from selenium import webdriver  # 라이브러리(모듈) 가져오라\n",
    "from selenium.webdriver import ActionChains as AC # 웹브라우저 동작 관련\n",
    "from tqdm import tqdm\n",
    "from tqdm.notebook import tqdm\n",
    "import re\n",
    "from time import sleep\n",
    "import time\n",
    "\n",
    "\n",
    "# 데이터 수집할 키워드 지정\n",
    "keyword = input(\"검색할 제품은 무엇입니까?\")\n",
    "keyword\n",
    "\n",
    "\n",
    "# 크롬창 띄우기\n",
    "driver = webdriver.Chrome(\"chromedriver.exe\") \n",
    "driver.get(\"https://search.11st.co.kr/Search.tmall?kwd={}\".format(keyword))\n",
    "time.sleep(2)\n",
    "\n",
    "url_list = []\n",
    "title_list = []\n",
    "\n",
    "\n",
    "# URL_raw 크롤링 시작/띄어쓰기는 .으로 변경.\n",
    "street = \".c_prd_name.c_prd_name_row_1 > a\"\n",
    "street_raw = driver.find_elements_by_css_selector(street)\n",
    "\n",
    "\n",
    "url_list=[]\n",
    "for street in street_raw:\n",
    "    url = street.get_attribute('href')   \n",
    "    print(url)\n",
    "    url_list.append(url)\n",
    "    \n",
    "time.sleep(1)\n",
    "\n",
    "# 제목 크롤링 시작    \n",
    "for street in street_raw:\n",
    "    title = street.text\n",
    "    title_list.append(title)\n",
    "    print(title)\n",
    "#여기까지 수집한 url을 저장. \n",
    "df = pd.DataFrame({\"url\":url_list})\n",
    "df.to_csv('teeurl.csv')\n",
    "\n",
    "\n",
    "\n",
    "dict = {}\n",
    "\n",
    "# 페이지당 리뷰 수집\n",
    "for i in tqdm(range(0, 30)):   # len(df['url'])\n",
    "    try:\n",
    "        \n",
    "        time.sleep(1)\n",
    "        df = pd.read_csv('teeurl.csv')\n",
    "        df['url']\n",
    "        time.sleep(1)\n",
    "        \n",
    "        \n",
    "        # 11번가 크롬창 띄우기\n",
    "        driver = webdriver.Chrome(\"chromedriver.exe\")  # 맥 : /Users/aiden/Desktop/chromedriver\n",
    "        driver.get(df['url'][i])\n",
    "        time.sleep(1)\n",
    "\n",
    "        # 제목, 가격, 평점 수집\n",
    "        \n",
    "        title_list=[]\n",
    "        title =street_raw[i].text\n",
    "        title_list.append(title)\n",
    "        print(title_list)\n",
    "\n",
    "        price_list=[]\n",
    "        price = driver.find_element_by_css_selector('.price .value')\n",
    "        price = price.text\n",
    "        price_list.append(price)\n",
    "        print(price_list)\n",
    "        \n",
    "        grade = driver.find_element_by_css_selector('.text_num')\n",
    "        grade = grade.text\n",
    "        print(\"긍정리뷰 {}\".format(grade))\n",
    "        \n",
    "        driver.switch_to.frame(\"ifrmReview\")\n",
    "        \n",
    "        \n",
    "\n",
    "        \n",
    "        #댓글수집\n",
    "        review_list = []\n",
    "        #overlays1 = \".cont_text\"\n",
    "        reviews = driver.find_elements_by_css_selector('.cont_text')\n",
    "        for review in tqdm(reviews):    \n",
    "            review = review.text\n",
    "            review_list.append(review)\n",
    "        \n",
    "        time.sleep(1)\n",
    "        print(title, '( 댓글 수:', len(review_list),')')\n",
    "        \n",
    "        target_info = {}\n",
    "        target_info['상 품 명'] = title\n",
    "        target_info['가    격'] = price\n",
    "        target_info['긍정리뷰'] = grade\n",
    "        target_info['리뷰  수'] = len(review_list)\n",
    "        target_info['댓    글'] = review_list\n",
    "        \n",
    "        dict[i] = target_info\n",
    "        \n",
    "\n",
    "\n",
    "\n",
    "        driver.close()\n",
    "        time.sleep(1)\n",
    "        \n",
    "    except:\n",
    "        driver.close()\n",
    "        continue\n",
    "\n",
    "print(len(dict))\n",
    "dict\n",
    "\n",
    "# 파일로 저장\n",
    "import pandas as pd\n",
    "result_df = pd.DataFrame.from_dict(dict, 'index')\n",
    "\n",
    "result_df\n",
    "\n",
    "result_df.to_csv(\"11stee_({}).csv\".format(keyword))"
   ]
  },
  {
   "cell_type": "code",
   "execution_count": null,
   "metadata": {},
   "outputs": [],
   "source": []
  },
  {
   "cell_type": "code",
   "execution_count": null,
   "metadata": {},
   "outputs": [],
   "source": []
  }
 ],
 "metadata": {
  "kernelspec": {
   "display_name": "Python 3",
   "language": "python",
   "name": "python3"
  },
  "language_info": {
   "codemirror_mode": {
    "name": "ipython",
    "version": 3
   },
   "file_extension": ".py",
   "mimetype": "text/x-python",
   "name": "python",
   "nbconvert_exporter": "python",
   "pygments_lexer": "ipython3",
   "version": "3.8.5"
  },
  "varInspector": {
   "cols": {
    "lenName": 16,
    "lenType": 16,
    "lenVar": 40
   },
   "kernels_config": {
    "python": {
     "delete_cmd_postfix": "",
     "delete_cmd_prefix": "del ",
     "library": "var_list.py",
     "varRefreshCmd": "print(var_dic_list())"
    },
    "r": {
     "delete_cmd_postfix": ") ",
     "delete_cmd_prefix": "rm(",
     "library": "var_list.r",
     "varRefreshCmd": "cat(var_dic_list()) "
    }
   },
   "types_to_exclude": [
    "module",
    "function",
    "builtin_function_or_method",
    "instance",
    "_Feature"
   ],
   "window_display": false
  }
 },
 "nbformat": 4,
 "nbformat_minor": 2
}
